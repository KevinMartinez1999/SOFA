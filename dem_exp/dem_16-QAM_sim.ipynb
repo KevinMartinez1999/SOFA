{
 "cells": [
  {
   "cell_type": "code",
   "execution_count": 30,
   "metadata": {},
   "outputs": [],
   "source": [
    "import numpy as np\n",
    "import matplotlib.pyplot as plt\n",
    "import pandas as pd"
   ]
  },
  {
   "cell_type": "code",
   "execution_count": 31,
   "metadata": {},
   "outputs": [],
   "source": [
    "# Conventional demodulation\n",
    "def demapper_sym(symbols_I, symbols_Q, Ns, threshold = 2.0):\n",
    "   symbol = []\n",
    "   for i in range(Ns):\n",
    "        if symbols_I[i] <= -threshold and symbols_Q[i] >= threshold: #-3+3j\n",
    "            symbol.append(0)\n",
    "        elif symbols_I[i] <= -threshold and symbols_Q[i] >= 0 and symbols_Q[i] <= threshold: #-3+1j\n",
    "            symbol.append(1)\n",
    "        elif symbols_I[i] <= -threshold and symbols_Q[i] <= 0 and symbols_Q[i] >= -threshold: #-3-j\n",
    "            symbol.append(3)\n",
    "        elif symbols_I[i] <= -threshold and symbols_Q[i] <= -threshold: #-3-3j\n",
    "            symbol.append(2)\n",
    "        elif symbols_I[i] >= -threshold and symbols_I[i] <= 0 and symbols_Q[i] >= threshold: #-1+3j\n",
    "            symbol.append(4)\n",
    "        elif symbols_I[i] >= -threshold and symbols_I[i] <= 0 and symbols_Q[i] >= 0 and symbols_Q[i] <= threshold: #-1+j\n",
    "            symbol.append(5)\n",
    "        elif symbols_I[i] >= -threshold and symbols_I[i] <= 0 and symbols_Q[i] <= 0 and symbols_Q[i] >= -threshold: #-1-j\n",
    "            symbol.append(7)\n",
    "        elif symbols_I[i] >= -threshold and symbols_I[i] <= 0 and symbols_Q[i] <= -threshold: #-1-3j\n",
    "            symbol.append(6)\n",
    "        elif symbols_I[i] >= 0 and symbols_I[i] <= threshold and symbols_Q[i] >= threshold: #1+3j\n",
    "            symbol.append(12)\n",
    "        elif symbols_I[i] >= 0 and symbols_I[i] <= threshold and symbols_Q[i] >= 0 and symbols_Q[i] <= threshold: #1+j\n",
    "            symbol.append(13)\n",
    "        elif symbols_I[i] >= 0 and symbols_I[i] <= threshold and symbols_Q[i] <= 0 and symbols_Q[i] >= -threshold: #1-j\n",
    "            symbol.append(15)\n",
    "        elif symbols_I[i] >= 0 and symbols_I[i] <= threshold and symbols_Q[i] <= -threshold: #1-3j\n",
    "            symbol.append(14)\n",
    "        elif symbols_I[i] >= threshold and symbols_Q[i] >= threshold: #3+3j\n",
    "            symbol.append(8)\n",
    "        elif symbols_I[i] >= threshold and symbols_Q[i] >= 0 and symbols_Q[i] <= threshold: #3+1j\n",
    "            symbol.append(9)\n",
    "        elif symbols_I[i] >= threshold and symbols_Q[i] <= 0 and symbols_Q[i] >= -threshold: #3-1j\n",
    "            symbol.append(11)\n",
    "        elif symbols_I[i] >= threshold and symbols_Q[i] <= -threshold: #3-3j\n",
    "            symbol.append(10)\n",
    "   return np.array(symbol)\n",
    "\n",
    "# Function tha calculate the bit error rate (BER) of two vectors with 4 bits\n",
    "def bit_error_rate(y_pred, y_test):\n",
    "    y_pred = ''.join([f\"{sym:04b}\" for sym in y_pred])\n",
    "    y_test = ''.join([f\"{sym:04b}\" for sym in y_test])\n",
    "\n",
    "    # Calculate the BER with the two strings\n",
    "    return np.sum(np.array(list(y_pred)) != np.array(list(y_test)))/len(np.array(list(y_pred)))\n",
    "\n",
    "# Function that calculate the symbol error rate (SER) of two vectors\n",
    "def symbol_error_rate(y_pred, y_test):\n",
    "    # Calculate the SER\n",
    "    return np.sum(y_pred!=y_test)/len(y_pred)\n",
    "\n",
    "# Add noise to the signal\n",
    "def add_noise(signal, target_snr_db):\n",
    "    X_avg_p = np.mean(signal**2)\n",
    "    X_avg_db = 10 * np.log10(X_avg_p)\n",
    "    noise_avg_db_r = X_avg_db - target_snr_db\n",
    "    noise_avg_p_r = 10 ** (noise_avg_db_r / 10)\n",
    "    mean_noise = 0\n",
    "    noise_r = np.random.normal(mean_noise, np.sqrt(noise_avg_p_r), len(signal))\n",
    "    return signal + noise_r\n",
    "\n",
    "# Function that sincronize the signals\n",
    "def sync_signals(tx, rx):\n",
    "    trans = np.concatenate((tx, tx))\n",
    "    corr = np.correlate(trans, rx, 'full')\n",
    "    delay = np.argmax(corr) - len(rx) + 1\n",
    "    signal = trans[delay:]\n",
    "    signal = signal[:len(rx)]\n",
    "    return signal\n",
    "\n",
    "# Function that demodulate the signal 16-QAM\n",
    "def demodulate(signal):\n",
    "    mod_dict = {-3+3j:0, -3+1j:1, -3-3j:2, -3-1j:3,\n",
    "            -1+3j:4, -1+1j:5, -1-3j:6, -1-1j:7,\n",
    "            3+3j:8, 3+1j:9, 3-3j:10, 3-1j:11,\n",
    "            1+3j:12, 1+1j:13, 1-3j:14, 1-1j:15}\n",
    "    symbols = []\n",
    "    for i in range(len(signal)):\n",
    "        symbols.append(mod_dict[signal[i]])\n",
    "    return np.array(symbols)"
   ]
  },
  {
   "cell_type": "code",
   "execution_count": 32,
   "metadata": {},
   "outputs": [],
   "source": [
    "# Generate 10000 random symbols with static seed\n",
    "np.random.seed(0)\n",
    "Ns = 100000\n",
    "symbols = np.random.randint(0, 16, Ns)"
   ]
  },
  {
   "cell_type": "code",
   "execution_count": 33,
   "metadata": {},
   "outputs": [],
   "source": [
    "mod_dict = {0:-3+3j, 1:-3+1j, 2:-3-3j, 3:-3-1j,\n",
    "            4:-1+3j, 5:-1+1j, 6:-1-3j, 7:-1-1j,\n",
    "            8:3+3j, 9:3+1j, 10:3-3j, 11:3-1j,\n",
    "            12:1+3j, 13:1+1j, 14:1-3j, 15:1-1j}"
   ]
  },
  {
   "cell_type": "code",
   "execution_count": 34,
   "metadata": {},
   "outputs": [],
   "source": [
    "# modulate the symbols\n",
    "mod_symbols = np.array([mod_dict[sym] for sym in symbols])"
   ]
  },
  {
   "cell_type": "code",
   "execution_count": 35,
   "metadata": {},
   "outputs": [],
   "source": [
    "# Move 70000 samples to the right\n",
    "rx = np.concatenate((mod_symbols, mod_symbols))[70000:150000]"
   ]
  },
  {
   "cell_type": "code",
   "execution_count": 36,
   "metadata": {},
   "outputs": [],
   "source": [
    "OSNR = [4, 6, 8, 10, 12, 14, 16]\n",
    "Xr = [add_noise(np.real(rx), val) for val in OSNR]\n",
    "Xi = [add_noise(np.imag(rx), val) for val in OSNR]"
   ]
  },
  {
   "cell_type": "code",
   "execution_count": 37,
   "metadata": {},
   "outputs": [],
   "source": [
    "X_ch = [np.array(Xr[i]+1j*Xi[i]) for i in range(len(OSNR))]"
   ]
  },
  {
   "cell_type": "markdown",
   "metadata": {},
   "source": [
    "En este punto, se tienen un conjunto de datos ‘rx’ desplazados y ruidosos que simulan a los datos recibidos del canal."
   ]
  },
  {
   "cell_type": "code",
   "execution_count": 38,
   "metadata": {},
   "outputs": [],
   "source": [
    "sync_sym = [sync_signals(mod_symbols, X_ch[i]) for i in range(len(OSNR))]"
   ]
  },
  {
   "cell_type": "markdown",
   "metadata": {},
   "source": [
    "Aquí se logró encontrar un conjunto de datos transmitidos que están sincronizados con los datos recibidos con el fin de calcular el VER. "
   ]
  },
  {
   "cell_type": "code",
   "execution_count": 39,
   "metadata": {},
   "outputs": [],
   "source": [
    "y = [demodulate(sync_sym[i]) for i in range(len(OSNR))]"
   ]
  },
  {
   "cell_type": "code",
   "execution_count": 40,
   "metadata": {},
   "outputs": [],
   "source": [
    "sym_dem = [demapper_sym(Xr[i], Xi[i], len(Xr[i])) for i in range(len(OSNR))]"
   ]
  },
  {
   "cell_type": "code",
   "execution_count": 41,
   "metadata": {},
   "outputs": [],
   "source": [
    "# Calculate the BER\n",
    "ber = [bit_error_rate(sym_dem[i], y[i]) for i in range(len(OSNR))]"
   ]
  },
  {
   "cell_type": "markdown",
   "metadata": {},
   "source": [
    "## BER KNN"
   ]
  },
  {
   "cell_type": "code",
   "execution_count": 42,
   "metadata": {},
   "outputs": [],
   "source": [
    "from sklearn.neighbors import KNeighborsClassifier\n",
    "from sklearn.model_selection import train_test_split\n",
    "\n",
    "ber_knn = []\n",
    "for i in range(len(OSNR)):\n",
    "    X = np.array([Xr[i], Xi[i]]).T\n",
    "    X_train, X_test, y_train, y_test = train_test_split(X, y[i], test_size=0.2, random_state=42)\n",
    "    neigh = KNeighborsClassifier(n_neighbors=5)\n",
    "    neigh.fit(X_train, y_train)\n",
    "    y_pred = neigh.predict(X_test)\n",
    "    ber_knn.append(bit_error_rate(y_pred, y_test))"
   ]
  },
  {
   "cell_type": "code",
   "execution_count": 48,
   "metadata": {},
   "outputs": [
    {
     "data": {
      "image/png": "[encoded data removed]",
      "text/plain": [
       "<Figure size 640x480 with 1 Axes>"
      ]
     },
     "metadata": {},
     "output_type": "display_data"
    }
   ],
   "source": [
    "# Fit-curve of the BER\n",
    "p1 = np.polyfit(OSNR, np.log10(ber), 2)\n",
    "z1 = np.poly1d(p1)\n",
    "\n",
    "p2 = np.polyfit(OSNR, np.log10(ber_knn), 2)\n",
    "z2 = np.poly1d(p2)\n",
    "\n",
    "x_step = np.linspace(4, 16, 1000) # step between 4 and 16 dB\n",
    "\n",
    "# Plot ther BER vs OSNR\n",
    "plt.scatter(OSNR, np.log10(ber), color='blue', edgecolors='black',\n",
    "            marker='o', s=60, zorder=3, clip_on=False, label='Conv.')\n",
    "plt.plot(x_step, z1(x_step), '--b', label='Fit-curve Conv.')\n",
    "\n",
    "plt.scatter(OSNR, np.log10(ber_knn), color='green', edgecolors='black',\n",
    "            marker='^', s=60, zorder=3, clip_on=False, label='KNN')\n",
    "plt.plot(x_step, z2(x_step), '--g', label='Fit-curve KNN')\n",
    "\n",
    "plt.xlabel('OSNR [dB]')\n",
    "plt.ylabel('Log10(BER)')\n",
    "plt.xticks(np.arange(4, 17))\n",
    "plt.xlim(4, 16)\n",
    "plt.legend()\n",
    "plt.show()"
   ]
  }
 ],
 "metadata": {
  "kernelspec": {
   "display_name": "base",
   "language": "python",
   "name": "python3"
  },
  "language_info": {
   "codemirror_mode": {
    "name": "ipython",
    "version": 3
   },
   "file_extension": ".py",
   "mimetype": "text/x-python",
   "name": "python",
   "nbconvert_exporter": "python",
   "pygments_lexer": "ipython3",
   "version": "3.10.9"
  },
  "orig_nbformat": 4
 },
 "nbformat": 4,
 "nbformat_minor": 2
}
